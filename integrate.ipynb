{
 "cells": [
  {
   "cell_type": "code",
   "execution_count": 25,
   "metadata": {},
   "outputs": [],
   "source": [
    "# SURF and SIFT is only supported in older version\n",
    "# pip install opencv-contrib-python==3.4.2.16\n",
    "# pip install opencv-python==3.4.2.16\n",
    "import numpy as np\n",
    "import glob,os,sys\n",
    "import cv2 as cv \n",
    "import matplotlib.pyplot as plt\n",
    "from sklearn.neighbors import NearestNeighbors\n",
    "import json\n",
    "import pickle\n",
    "from scipy.sparse import lil_matrix\n",
    "import time\n",
    "from scipy.optimize import least_squares\n",
    "import plotly.graph_objects as go\n",
    "from scipy.spatial.transform import Rotation as R"
   ]
  },
  {
   "cell_type": "code",
   "execution_count": 2,
   "metadata": {},
   "outputs": [],
   "source": [
    "'''\n",
    "load images as gray images\n",
    "'''\n",
    "def read_image(path,ratio=1):\n",
    "    img=cv.imread(path,0)\n",
    "    dim=(int(img.shape[1]*ratio),int(img.shape[0]*ratio))\n",
    "    resized=cv.resize(img,dim)\n",
    "    return resized"
   ]
  },
  {
   "cell_type": "code",
   "execution_count": 9,
   "metadata": {},
   "outputs": [],
   "source": [
    "'''\n",
    "get feature matches\n",
    "'''\n",
    "def get_good_matches(descriptors,threshold=0.75):\n",
    "    bf = cv.BFMatcher()  # Brute Force knn matcher\n",
    "    n_images=len(descriptors)\n",
    "    n_good_matches=np.zeros((n_images,n_images)) # store # of good matches between image_i and image_j\n",
    "    good_matches=[[] for i in range(n_images)] # 2D list\n",
    "    for i in range(n_images):\n",
    "        for j in range(n_images):\n",
    "            if(i!=j):\n",
    "                des1,des2=descriptors[i],descriptors[j]  # des1——query index; des2 —— train index\n",
    "                matches = bf.knnMatch(des1,des2,k=2)# find the best and second best match\n",
    "                good = []\n",
    "                for m,n in matches:\n",
    "                    if m.distance < threshold*n.distance:\n",
    "                        good.append(m)\n",
    "                n_good_matches[i,j]=len(good)\n",
    "                good_matches[i].append(good)\n",
    "            else:\n",
    "                good_matches[i].append([])\n",
    "    \n",
    "    return n_good_matches,good_matches"
   ]
  },
  {
   "cell_type": "code",
   "execution_count": 14,
   "metadata": {},
   "outputs": [],
   "source": [
    "'''\n",
    "linear triangulartion\n",
    "'''\n",
    "def linearTriangulation(P1,x1s,P2,x2s):\n",
    "    '''\n",
    "    Given two projection matrice and homogenous points, we triangulate them to get 3-D points\n",
    "    '''\n",
    "    XS=np.zeros((4,x1s.shape[0]))\n",
    "    err=np.zeros((1,x1s.shape[0]))\n",
    "    for k in range(x1s.shape[0]):\n",
    "        r1=x1s[k,0]*P1[2,:]-P1[0,:]\n",
    "        r2=x1s[k,1]*P1[2,:]-P1[1,:]\n",
    "        r3=x2s[k,0]*P2[2,:]-P2[0,:]\n",
    "        r4=x2s[k,1]*P2[2,:]-P2[1,:]\n",
    "        \n",
    "        A=np.vstack((r1,r2,r3,r4))\n",
    "        U,S,Vh=np.linalg.svd(A)\n",
    "        XS[:,k]=Vh.T[:,-1]/Vh.T[3,3]\n",
    "        err[0,k]=S[-1]\n",
    "    return XS,err"
   ]
  },
  {
   "cell_type": "code",
   "execution_count": 15,
   "metadata": {},
   "outputs": [],
   "source": [
    "'''\n",
    "decompose E\n",
    "'''\n",
    "def decomposeE(E,x1s,x2s):\n",
    "    '''\n",
    "    Given the essential and normalized homogenous points, \n",
    "    return the second projection matrix and the index of inliers\n",
    "    '''\n",
    "    W=np.array([[0,-1,0],[1,0,0],[0,0,1]])\n",
    "    [U,S,Vh]=np.linalg.svd(E) # U and Vh is normalized\n",
    "    \n",
    "    # extract translation\n",
    "    t=U[:,2].reshape((-1,1))\n",
    "    \n",
    "    # extraction rotation\n",
    "    R1=np.dot(np.dot(U,W),Vh)\n",
    "    R2=np.dot(np.dot(U,W.T),Vh)\n",
    "    if(np.linalg.det(R1)<0):\n",
    "        R1=-R1\n",
    "    if(np.linalg.det(R2)<0):\n",
    "        R2=-R2\n",
    "    \n",
    "    # four possible projection matrice\n",
    "    P1=np.vstack((np.hstack((R1,t)),np.array([0,0,0,1])))\n",
    "    P2=np.vstack((np.hstack((R1,-t)),np.array([0,0,0,1])))\n",
    "    P3=np.vstack((np.hstack((R2,t)),np.array([0,0,0,1])))\n",
    "    P4=np.vstack((np.hstack((R2,-t)),np.array([0,0,0,1])))\n",
    "    Ps=[P1,P2,P3,P4]\n",
    "    \n",
    "    # determine the projection matrix by the maximum inliers\n",
    "    n_inliers=[]\n",
    "    ind_inliers=[]\n",
    "    P=np.eye(4) # the first projection is identical\n",
    "    for proj_mat in Ps:\n",
    "        X,_=linearTriangulation(P,x1s,proj_mat,x2s)\n",
    "        p1X=X\n",
    "        p2X=np.dot(proj_mat,X)\n",
    "        \n",
    "        n_infront1=(p1X[2,:]>0).sum()\n",
    "        n_infront2=(p2X[2,:]>0).sum()\n",
    "        \n",
    "        ind_valid=np.logical_and(p1X[2,:]>0,p2X[2,:]>0)\n",
    "        ind_inliers.append(ind_valid)\n",
    "        n_inliers.append(ind_valid.sum())\n",
    "    \n",
    "    # determine the best projection matrix by the most reconstructed points in front of the cameras\n",
    "    n_inliers=np.array(n_inliers)\n",
    "    ind_proj=n_inliers.argmax() \n",
    "    \n",
    "    ind_inlier=ind_inliers[ind_proj]\n",
    "    proj_mat=Ps[ind_proj]\n",
    "    return proj_mat,ind_inlier"
   ]
  },
  {
   "cell_type": "code",
   "execution_count": 26,
   "metadata": {},
   "outputs": [],
   "source": [
    "def proj_matrix_to_camera_vector(proj_mat):\n",
    "    '''\n",
    "    decompose the projection matrix to camera paras\n",
    "    '''\n",
    "    rot_mat=proj_mat[:3,:3]\n",
    "    r=R.from_dcm(rot_mat)\n",
    "    rot_vec=r.as_rotvec()\n",
    "    t=proj_mat[:3,3]\n",
    "    camera_vec=np.hstack((rot_vec,t))\n",
    "    return camera_vec"
   ]
  },
  {
   "cell_type": "code",
   "execution_count": 18,
   "metadata": {},
   "outputs": [],
   "source": [
    "def rotate(points, rot_vecs):\n",
    "    \"\"\"Rotate points by given rotation vectors.\n",
    "    \n",
    "    Rodrigues' rotation formula is used.\n",
    "    \"\"\"\n",
    "    theta = np.linalg.norm(rot_vecs, axis=1)[:, np.newaxis]\n",
    "    with np.errstate(invalid='ignore'):\n",
    "        v = rot_vecs / theta\n",
    "        v = np.nan_to_num(v)\n",
    "    dot = np.sum(points * v, axis=1)[:, np.newaxis]\n",
    "    cos_theta = np.cos(theta)\n",
    "    sin_theta = np.sin(theta)\n",
    "\n",
    "    return cos_theta * points + sin_theta * np.cross(v, points) + dot * (1 - cos_theta) * v"
   ]
  },
  {
   "cell_type": "code",
   "execution_count": 19,
   "metadata": {},
   "outputs": [],
   "source": [
    "def project(points, camera_params):\n",
    "    \"\"\"Convert 3-D points to 2-D by projecting onto images.\"\"\"\n",
    "    points_proj = rotate(points, camera_params[:, :3])\n",
    "    points_proj += camera_params[:, 3:6]\n",
    "    points_proj=points_proj[:, :2] / points_proj[:, 2, np.newaxis]\n",
    "    return points_proj"
   ]
  },
  {
   "cell_type": "code",
   "execution_count": 20,
   "metadata": {},
   "outputs": [],
   "source": [
    "# get residuals\n",
    "def fun(params, n_cameras, n_points, camera_indices, point_indices, points_2d):\n",
    "    '''\n",
    "    get residuals\n",
    "    '''\n",
    "    # recover cameras params and points 3d\n",
    "    camera_params=params[:n_cameras*6].reshape((n_cameras,6))\n",
    "    points_3d=params[n_cameras*6:].reshape((n_points,3))\n",
    "    \n",
    "    # reproject 3d points\n",
    "    \n",
    "    points_proj = project(points_3d[point_indices], camera_params[camera_indices])\n",
    "    return (points_proj - points_2d).ravel()"
   ]
  },
  {
   "cell_type": "code",
   "execution_count": 22,
   "metadata": {},
   "outputs": [],
   "source": [
    "# build sparse jacobian\n",
    "def bundle_adjustment_sparsity(n_cameras, n_points, camera_indices, point_indices):\n",
    "    m = camera_indices.size * 2\n",
    "    n = n_cameras * 6 + n_points * 3\n",
    "    A = lil_matrix((m, n), dtype=int)\n",
    "\n",
    "    i = np.arange(camera_indices.size)\n",
    "    for s in range(9):\n",
    "        A[2 * i, camera_indices * 6 + s] = 1\n",
    "        A[2 * i + 1, camera_indices * 6 + s] = 1\n",
    "\n",
    "    for s in range(3):\n",
    "        A[2 * i, n_cameras * 6 + point_indices * 3 + s] = 1\n",
    "        A[2 * i + 1, n_cameras * 6 + point_indices * 3 + s] = 1\n",
    "\n",
    "    return A"
   ]
  },
  {
   "cell_type": "code",
   "execution_count": 30,
   "metadata": {},
   "outputs": [],
   "source": [
    "def recover_projection_matrix(camera_param):\n",
    "    rot_vec=camera_param[:3]\n",
    "    translate_vec=camera_param[3:]\n",
    "    r=R.from_rotvec(rot_vec)\n",
    "    rot_matrix=r.as_dcm()\n",
    "    P=np.eye(4)\n",
    "    P[:3,:3]=rot_matrix\n",
    "    P[:3,3]=translate_vec.T\n",
    "    return P"
   ]
  },
  {
   "cell_type": "code",
   "execution_count": 32,
   "metadata": {},
   "outputs": [
    {
     "name": "stdout",
     "output_type": "stream",
     "text": [
      "[[2.75948e+03 0.00000e+00 1.52069e+03]\n",
      " [0.00000e+00 2.76416e+03 1.00681e+03]\n",
      " [0.00000e+00 0.00000e+00 1.00000e+00]]\n"
     ]
    }
   ],
   "source": [
    "# get calibration matrix\n",
    "path='matlab-code/data/k/K.txt'\n",
    "f=open(path,'r')\n",
    "lines=f.readlines()\n",
    "K=np.zeros((3,3))\n",
    "for i in range(3):\n",
    "    for j in range(3):\n",
    "        K[i,j]=float(lines[i].split(' ')[j])\n",
    "print(K)"
   ]
  },
  {
   "cell_type": "code",
   "execution_count": 33,
   "metadata": {},
   "outputs": [
    {
     "name": "stdout",
     "output_type": "stream",
     "text": [
      "11 images founded\n",
      "(2048, 3072)\n"
     ]
    }
   ],
   "source": [
    "# read all images\n",
    "image_dir='./matlab-code/data/images/*.png'\n",
    "files=glob.glob(image_dir)\n",
    "print('%d images founded' % len(files))\n",
    "\n",
    "images=[]\n",
    "for eachimage in files:\n",
    "    img=read_image(eachimage)\n",
    "    images.append(img)\n",
    "print(images[0].shape)"
   ]
  },
  {
   "cell_type": "code",
   "execution_count": 34,
   "metadata": {},
   "outputs": [],
   "source": [
    "# use SURF to get features\n",
    "keypoints,descriptors=[],[]\n",
    "surf = cv.xfeatures2d.SURF_create(hessianThreshold=400,extended=True)\n",
    "for image in images:\n",
    "    kp, des = surf.detectAndCompute(image,None)\n",
    "    keypoints.append(kp)\n",
    "    descriptors.append(des)"
   ]
  },
  {
   "cell_type": "code",
   "execution_count": 35,
   "metadata": {},
   "outputs": [
    {
     "name": "stdout",
     "output_type": "stream",
     "text": [
      "CPU times: user 10min 2s, sys: 1.51 s, total: 10min 3s\n",
      "Wall time: 2min 52s\n"
     ]
    }
   ],
   "source": [
    "# get feature matches\n",
    "%time n_good_matches, good_matches=get_good_matches(descriptors)"
   ]
  },
  {
   "cell_type": "code",
   "execution_count": 36,
   "metadata": {},
   "outputs": [
    {
     "name": "stdout",
     "output_type": "stream",
     "text": [
      "0 2\n"
     ]
    }
   ],
   "source": [
    "# determine initial pair\n",
    "ind = np.unravel_index(np.argmax(n_good_matches, axis=None), n_good_matches.shape)\n",
    "ind_img1,ind_img2=ind[0],ind[1]\n",
    "print(ind_img1,ind_img2)"
   ]
  },
  {
   "cell_type": "code",
   "execution_count": 37,
   "metadata": {},
   "outputs": [
    {
     "name": "stdout",
     "output_type": "stream",
     "text": [
      "(2247, 3) (2247, 3)\n",
      "# pairs: 2247\n",
      "# Reconstructed inliers: 2247\n"
     ]
    }
   ],
   "source": [
    "# reconstruct from first pair\n",
    "img1,img2=images[ind_img1],images[ind_img2]\n",
    "good_match=good_matches[ind_img1][ind_img2]\n",
    "\n",
    "# recover 2D pts\n",
    "pts1,pts2=[],[]\n",
    "for ele in good_match:\n",
    "    pts1.append(keypoints[ind_img1][ele.queryIdx].pt)\n",
    "    pts2.append(keypoints[ind_img2][ele.trainIdx].pt)\n",
    "pts1=np.int32(pts1)\n",
    "pts2=np.int32(pts2)\n",
    "\n",
    "# compute F\n",
    "F, mask = cv.findFundamentalMat(pts1,pts2,cv.FM_RANSAC)\n",
    "\n",
    "# filter the outliers \n",
    "pts1 = pts1[mask.ravel()==1]\n",
    "pts2 = pts2[mask.ravel()==1]\n",
    "\n",
    "# calibrate the homogeneous points\n",
    "if(pts1.shape[1]==2):\n",
    "    pts1=np.hstack((pts1,np.ones((pts1.shape[0],1))))\n",
    "if(pts2.shape[1]==2):\n",
    "    pts2=np.hstack((pts2,np.ones((pts2.shape[0],1))))\n",
    "img1_calibrated_inliers=np.dot(np.linalg.inv(K),pts1.T).T\n",
    "img2_calibrated_inliers=np.dot(np.linalg.inv(K),pts2.T).T\n",
    "print(img1_calibrated_inliers.shape,img2_calibrated_inliers.shape)\n",
    "\n",
    "# get Essential matrix from calibration matrix and fundamental matrix\n",
    "E=np.dot(np.dot(K.T,F),K)\n",
    "\n",
    "projection_matrix, ind_inliers=decomposeE(E,img1_calibrated_inliers,img2_calibrated_inliers)\n",
    "print('# pairs: %d' % img1_calibrated_inliers.shape[0])\n",
    "print('# Reconstructed inliers: %d' % ind_inliers.sum())"
   ]
  },
  {
   "cell_type": "code",
   "execution_count": 38,
   "metadata": {},
   "outputs": [],
   "source": [
    "# bundle adjustment\n",
    "P1=np.eye(4)\n",
    "P2=projection_matrix\n",
    "inliers1=img1_calibrated_inliers[ind_inliers]\n",
    "inliers2=img2_calibrated_inliers[ind_inliers]\n",
    "XS,err=linearTriangulation(P1,inliers1,P2,inliers2)"
   ]
  },
  {
   "cell_type": "code",
   "execution_count": 39,
   "metadata": {},
   "outputs": [
    {
     "name": "stdout",
     "output_type": "stream",
     "text": [
      "(2, 6)\n",
      "(2247, 3)\n",
      "(4494,)\n",
      "(4494,)\n",
      "(4494, 2)\n"
     ]
    },
    {
     "data": {
      "text/plain": [
       "[<matplotlib.lines.Line2D at 0x12ed81b70>]"
      ]
     },
     "execution_count": 39,
     "metadata": {},
     "output_type": "execute_result"
    },
    {
     "data": {
      "image/png": "[encoded data removed]",
      "text/plain": [
       "<Figure size 432x288 with 1 Axes>"
      ]
     },
     "metadata": {
      "needs_background": "light"
     },
     "output_type": "display_data"
    }
   ],
   "source": [
    "n_cameras=2\n",
    "n_points=XS.shape[1]\n",
    "\n",
    "# get camera params,  n_cameras x 6\n",
    "camera_params=np.zeros((n_cameras,6))\n",
    "camera_params[0,:]=proj_matrix_to_camera_vector(P1)\n",
    "camera_params[1,:]=proj_matrix_to_camera_vector(P2)\n",
    "print(camera_params.shape)\n",
    "\n",
    "# points_3d, n_points x 3\n",
    "points_3d=XS[:3,:].T\n",
    "print(points_3d.shape)\n",
    "\n",
    "# get camera_indice\n",
    "\n",
    "camera_indices=[]\n",
    "for i in range(n_cameras):\n",
    "    camera_indices.extend([i]*n_points)\n",
    "camera_indices=np.array(camera_indices)\n",
    "print(camera_indices.shape)\n",
    "\n",
    "# get points_ind\n",
    "point_indices=[]\n",
    "for i in range(n_cameras):\n",
    "    for j in range(n_points):\n",
    "        point_indices.append(j)\n",
    "point_indices=np.array(point_indices)\n",
    "print(point_indices.shape)\n",
    "\n",
    "# get point_2d\n",
    "pts_2d_1=inliers1[:,:2]\n",
    "pts_2d_2=inliers2[:,:2]\n",
    "pts_2d=np.vstack((pts_2d_1,pts_2d_2))\n",
    "print(pts_2d.shape)\n",
    "\n",
    "# get params\n",
    "x0 = np.hstack((camera_params.ravel(), points_3d.ravel()))\n",
    "f0 = fun(x0, n_cameras, n_points, camera_indices, point_indices, pts_2d)\n",
    "plt.plot(f0)"
   ]
  },
  {
   "cell_type": "code",
   "execution_count": 40,
   "metadata": {},
   "outputs": [
    {
     "name": "stdout",
     "output_type": "stream",
     "text": [
      "   Iteration     Total nfev        Cost      Cost reduction    Step norm     Optimality   \n",
      "       0              1         5.5741e-03                                    3.25e+00    \n",
      "       1              2         3.8008e-05      5.54e-03       4.10e+00       4.62e-02    \n",
      "       2              3         3.4653e-05      3.35e-06       9.16e-02       1.01e-04    \n",
      "       3              4         3.4653e-05      2.76e-11       1.61e-04       1.67e-06    \n",
      "`ftol` termination condition is satisfied.\n",
      "Function evaluations 4, initial cost 5.5741e-03, final cost 3.4653e-05, first-order optimality 1.67e-06.\n"
     ]
    },
    {
     "data": {
      "text/plain": [
       "[<matplotlib.lines.Line2D at 0x1262f2f28>]"
      ]
     },
     "execution_count": 40,
     "metadata": {},
     "output_type": "execute_result"
    },
    {
     "data": {
      "image/png": "[encoded data removed]",
      "text/plain": [
       "<Figure size 432x288 with 1 Axes>"
      ]
     },
     "metadata": {
      "needs_background": "light"
     },
     "output_type": "display_data"
    }
   ],
   "source": [
    "# optimize\n",
    "A = bundle_adjustment_sparsity(n_cameras, n_points, camera_indices, point_indices)\n",
    "t0 = time.time()\n",
    "res = least_squares(fun, x0,jac='3-point',jac_sparsity=A, verbose=2, x_scale='jac', ftol=1e-4, method='trf',\n",
    "                    args=(n_cameras, n_points, camera_indices, point_indices, pts_2d))\n",
    "t1 = time.time()\n",
    "plt.plot(res.fun)"
   ]
  },
  {
   "cell_type": "code",
   "execution_count": 41,
   "metadata": {},
   "outputs": [],
   "source": [
    "optimized_params=res.x\n",
    "# get new camera_paras\n",
    "camera_params=optimized_params[:n_cameras*6].reshape((n_cameras,6))\n",
    "P1=recover_projection_matrix(camera_params[0])\n",
    "P2=recover_projection_matrix(camera_params[1])\n",
    "\n",
    "# get new pts_3d\n",
    "points_3d=optimized_params[n_cameras*6:].reshape((n_points,3))"
   ]
  },
  {
   "cell_type": "code",
   "execution_count": 49,
   "metadata": {},
   "outputs": [],
   "source": [
    "# x,y,z=XS[0,:], XS[1,:], XS[2,:]\n",
    "# fig = go.Figure(data=[go.Scatter3d(x=x, \n",
    "#                                    y=y, \n",
    "#                                    z=z,\n",
    "#                                    mode='markers',\n",
    "#                                    marker=dict(\n",
    "#                                        size=2))])\n",
    "# fig.show()"
   ]
  },
  {
   "cell_type": "code",
   "execution_count": 48,
   "metadata": {},
   "outputs": [],
   "source": [
    "# # get new pts_3d\n",
    "# x,y,z=points_3d[:,0], points_3d[:,1],points_3d[:,2]\n",
    "# fig = go.Figure(data=[go.Scatter3d(x=x, \n",
    "#                                    y=y, \n",
    "#                                    z=z,\n",
    "#                                    mode='markers',\n",
    "#                                    marker=dict(\n",
    "#                                        size=2))])\n",
    "# fig.update_layout(width=800,height=800)\n",
    "# fig.show()"
   ]
  },
  {
   "cell_type": "code",
   "execution_count": 45,
   "metadata": {},
   "outputs": [],
   "source": [
    "# initial query and train indice\n",
    "query_indice=[ele.queryIdx for ele in good_match] # img1\n",
    "train_indice=[ele.trainIdx for ele in good_match] # img2\n",
    "\n",
    "# filter by ransacFundamental and decomposeE\n",
    "query_indice=np.array(query_indice)\n",
    "train_indice=np.array(train_indice)\n",
    "\n",
    "mask_F=mask.ravel()==1\n",
    "mask_E=ind_inliers\n",
    "query_indice=query_indice[mask_F][mask_E]\n",
    "train_indice=train_indice[mask_F][mask_E]"
   ]
  },
  {
   "cell_type": "code",
   "execution_count": 46,
   "metadata": {},
   "outputs": [
    {
     "name": "stdout",
     "output_type": "stream",
     "text": [
      "[   0  945 2247  726   48   76  133  334  160  129  304]\n"
     ]
    }
   ],
   "source": [
    "# find next image with most overlapping 2D pts\n",
    "img1_matches=good_matches[ind_img1]\n",
    "n_overlaps=[]\n",
    "ind_overlaps=[]\n",
    "for match in img1_matches:\n",
    "    ind_matches=[ele.queryIdx for ele in match]\n",
    "    ind_overlap=[ele for ele in ind_matches if ele in query_indice ]\n",
    "    n_overlap=len(ind_overlap)\n",
    "    n_overlaps.append(n_overlap)\n",
    "    ind_overlaps.append(ind_overlap)\n",
    "n_overlaps=np.array(n_overlaps)\n",
    "print(n_overlaps)"
   ]
  },
  {
   "cell_type": "code",
   "execution_count": 47,
   "metadata": {},
   "outputs": [
    {
     "name": "stdout",
     "output_type": "stream",
     "text": [
      "[696 316   0 663  28  61 107 343 178  53 102]\n"
     ]
    }
   ],
   "source": [
    "# find next image with most overlapping 2D pts\n",
    "img2_matches=good_matches[ind_img2]\n",
    "n_overlaps=[]\n",
    "ind_overlaps=[]\n",
    "for match in img2_matches:\n",
    "    ind_matches=[ele.queryIdx for ele in match]\n",
    "    ind_overlap=[ele for ele in ind_matches if ele in query_indice ]\n",
    "    n_overlap=len(ind_overlap)\n",
    "    n_overlaps.append(n_overlap)\n",
    "    ind_overlaps.append(ind_overlap)\n",
    "n_overlaps=np.array(n_overlaps)\n",
    "print(n_overlaps)"
   ]
  },
  {
   "cell_type": "code",
   "execution_count": null,
   "metadata": {},
   "outputs": [],
   "source": []
  }
 ],
 "metadata": {
  "kernelspec": {
   "display_name": "Python 3",
   "language": "python",
   "name": "python3"
  },
  "language_info": {
   "codemirror_mode": {
    "name": "ipython",
    "version": 3
   },
   "file_extension": ".py",
   "mimetype": "text/x-python",
   "name": "python",
   "nbconvert_exporter": "python",
   "pygments_lexer": "ipython3",
   "version": "3.7.3"
  }
 },
 "nbformat": 4,
 "nbformat_minor": 2
}
