{
 "cells": [
  {
   "cell_type": "markdown",
   "metadata": {},
   "source": [
    "# South-building"
   ]
  },
  {
   "cell_type": "markdown",
   "metadata": {},
   "source": [
    "## functions"
   ]
  },
  {
   "cell_type": "code",
   "execution_count": 1,
   "metadata": {},
   "outputs": [],
   "source": [
    "import sys,os\n",
    "sys.path.append('python-code')\n",
    "from utils import *\n",
    "from init_camera import initialize\n",
    "from register_camera import register\n",
    "import seaborn as sns"
   ]
  },
  {
   "cell_type": "markdown",
   "metadata": {},
   "source": [
    "## load data "
   ]
  },
  {
   "cell_type": "code",
   "execution_count": 6,
   "metadata": {},
   "outputs": [],
   "source": [
    "def init():\n",
    "    ################################################\n",
    "    # initialize configuration and camera dictionary\n",
    "    ################################################\n",
    "    K=np.array([[2559.68,0,1536],[0,2559.68,1152],[0,0,1]])\n",
    "    DISTCOEFFS=np.array([-0.0204997,0,0,0])\n",
    "    \n",
    "    DIR_IMAGES='Images/south_building/*.JPG'\n",
    "    config=SFM_Params(DIR_IMAGES,n_images=50,hessianThreshold=1000,detector='SIFT',matcher='FLANN')\n",
    "    dict_cameras={}\n",
    "    n_cameras=config.n_cameras\n",
    "    for i in range(n_cameras):\n",
    "        dict_cameras[i]={}\n",
    "    \n",
    "    config.K=K\n",
    "    config.DISTCOEFFS=DISTCOEFFS.astype('float32')\n",
    "    \n",
    "    config.ratio_test_threshold=0.65\n",
    "    config.pnp_threshold = 5\n",
    "    config.dist_threshold=200\n",
    "    config.post_threshold= 5\n",
    "    config.pre_threshold=12\n",
    "    config.indice_registered_cameras=[]\n",
    "    \n",
    "    return config,dict_cameras"
   ]
  },
  {
   "cell_type": "code",
   "execution_count": null,
   "metadata": {},
   "outputs": [
    {
     "name": "stdout",
     "output_type": "stream",
     "text": [
      "Loaded in total 50 frames \n",
      "Feature detection takes 71 seconds\n",
      "Feature matching takes 4779 seconds\n",
      "`ftol` termination condition is satisfied.\n",
      "Function evaluations 26, initial cost 4.5354e+04, final cost 1.1805e+03, first-order optimality 3.43e+01.\n",
      "Use camera 46 and camera 47 to initialize, 29989 pairs used, 27461 pairs reconstructed \n",
      "---------------------------------------------------------------------------------------\n",
      "Registering 3th camera............\n",
      "Use 14702 out of 14863 points to register camera 45 by camera 46\n",
      "`ftol` termination condition is satisfied.\n",
      "Function evaluations 129, initial cost 6.4440e+04, final cost 3.3001e+03, first-order optimality 1.16e+03.\n",
      "115433 observations, 48358 3D points\n",
      "---------------------------------------------------------------------------------------\n",
      "Registering 4th camera............\n",
      "Use 18367 out of 19081 points to register camera 44 by camera 45\n",
      "`ftol` termination condition is satisfied.\n",
      "Function evaluations 63, initial cost 5.9265e+04, final cost 7.0126e+03, first-order optimality 1.36e+03.\n",
      "174533 observations, 64273 3D points\n",
      "---------------------------------------------------------------------------------------\n",
      "Registering 5th camera............\n",
      "Use 18469 out of 20240 points to register camera 48 by camera 47\n",
      "`ftol` termination condition is satisfied.\n",
      "Function evaluations 60, initial cost 7.6792e+04, final cost 1.1886e+04, first-order optimality 4.08e+03.\n",
      "232936 observations, 77848 3D points\n",
      "---------------------------------------------------------------------------------------\n",
      "Registering 6th camera............\n",
      "Use 19198 out of 20700 points to register camera 43 by camera 44\n",
      "`ftol` termination condition is satisfied.\n",
      "Function evaluations 77, initial cost 7.4386e+04, final cost 1.8212e+04, first-order optimality 2.27e+03.\n",
      "287982 observations, 89328 3D points\n",
      "---------------------------------------------------------------------------------------\n",
      "Registering 7th camera............\n",
      "Use 18968 out of 20665 points to register camera 42 by camera 43\n",
      "`ftol` termination condition is satisfied.\n",
      "Function evaluations 47, initial cost 9.3002e+04, final cost 2.5454e+04, first-order optimality 1.90e+03.\n",
      "344168 observations, 100776 3D points\n",
      "---------------------------------------------------------------------------------------\n",
      "Registering 8th camera............\n",
      "Use 19044 out of 19387 points to register camera 41 by camera 42\n",
      "`ftol` termination condition is satisfied.\n",
      "Function evaluations 59, initial cost 1.2399e+05, final cost 3.3993e+04, first-order optimality 5.50e+03.\n",
      "396133 observations, 111191 3D points\n",
      "---------------------------------------------------------------------------------------\n",
      "Registering 9th camera............\n",
      "Use 17992 out of 18234 points to register camera 40 by camera 41\n"
     ]
    }
   ],
   "source": [
    "SAVE_NAME='south_building'\n",
    "if(not os.path.exists('results/%s' % SAVE_NAME)):\n",
    "    os.makedirs('results/%s' % SAVE_NAME)\n",
    "########################################################\n",
    "# init configurations \n",
    "########################################################\n",
    "config,dict_cameras=init()\n",
    "\n",
    "\n",
    "\n",
    "########################################################\n",
    "# load images\n",
    "########################################################\n",
    "dict_cameras=load_images(config,dict_cameras)\n",
    "\n",
    "\n",
    "\n",
    "########################################################\n",
    "# extract features\n",
    "########################################################\n",
    "dict_cameras=extract_features(config,dict_cameras)\n",
    "\n",
    "\n",
    "\n",
    "########################################################\n",
    "# match features\n",
    "########################################################\n",
    "dict_cameras=match_features(config,dict_cameras)\n",
    "ax = sns.heatmap(config.n_good_matches)\n",
    "\n",
    "\n",
    "\n",
    "########################################################\n",
    "# initialize the first two images\n",
    "########################################################\n",
    "config,dict_cameras=initialize(config,dict_cameras)\n",
    "np.savetxt('results/%s/2.txt' % SAVE_NAME,config.reconstructed_points_3d,delimiter=';')\n",
    "\n",
    "\n",
    "\n",
    "########################################################\n",
    "# register more cameras\n",
    "########################################################\n",
    "n_cameras=config.n_cameras\n",
    "for i in range(n_cameras-2):\n",
    "    print('---------------------------------------------------------------------------------------')\n",
    "    print('Registering %dth camera............' % (i+3))\n",
    "    config,dict_cameras,n_observations,n_points_3d=register(config,dict_cameras)\n",
    "    print('%d observations, %d 3D points' %(n_observations,n_points_3d))\n",
    "\n",
    "    mask=[]\n",
    "    for crn_camera_index in config.indice_registered_cameras:\n",
    "        mask.extend(dict_cameras[crn_camera_index]['point_indice'].tolist())\n",
    "    mask=list(set(mask))\n",
    "    reconstructed_points_3d=config.reconstructed_points_3d[mask]\n",
    "    np.savetxt('results/%s/%d.txt' % (SAVE_NAME,i+3),reconstructed_points_3d,delimiter=';')"
   ]
  },
  {
   "cell_type": "code",
   "execution_count": null,
   "metadata": {},
   "outputs": [],
   "source": []
  }
 ],
 "metadata": {
  "kernelspec": {
   "display_name": "Python 3",
   "language": "python",
   "name": "python3"
  },
  "language_info": {
   "codemirror_mode": {
    "name": "ipython",
    "version": 3
   },
   "file_extension": ".py",
   "mimetype": "text/x-python",
   "name": "python",
   "nbconvert_exporter": "python",
   "pygments_lexer": "ipython3",
   "version": "3.7.5"
  }
 },
 "nbformat": 4,
 "nbformat_minor": 4
}
