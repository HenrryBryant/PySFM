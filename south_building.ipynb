{
 "cells": [
  {
   "cell_type": "markdown",
   "metadata": {},
   "source": [
    "# South-building"
   ]
  },
  {
   "cell_type": "markdown",
   "metadata": {},
   "source": [
    "## functions"
   ]
  },
  {
   "cell_type": "code",
   "execution_count": 1,
   "metadata": {},
   "outputs": [],
   "source": [
    "import sys,os\n",
    "sys.path.append('python-code')\n",
    "from utils import *\n",
    "from init_camera import initialize\n",
    "from register_camera import register\n",
    "import seaborn as sns"
   ]
  },
  {
   "cell_type": "markdown",
   "metadata": {},
   "source": [
    "## load data "
   ]
  },
  {
   "cell_type": "code",
   "execution_count": 6,
   "metadata": {},
   "outputs": [],
   "source": [
    "def init():\n",
    "    ################################################\n",
    "    # initialize configuration and camera dictionary\n",
    "    ################################################\n",
    "    K=np.array([[2559.68,0,1536],[0,2559.68,1152],[0,0,1]])\n",
    "    DISTCOEFFS=np.array([-0.0204997,0,0,0])\n",
    "    \n",
    "    DIR_IMAGES='Images/south_building/*.JPG'\n",
    "    config=SFM_Params(DIR_IMAGES,n_images=50,hessianThreshold=1000,detector='SIFT',matcher='FLANN')\n",
    "    dict_cameras={}\n",
    "    n_cameras=config.n_cameras\n",
    "    for i in range(n_cameras):\n",
    "        dict_cameras[i]={}\n",
    "    \n",
    "    config.K=K\n",
    "    config.DISTCOEFFS=DISTCOEFFS.astype('float32')\n",
    "    \n",
    "    config.ratio_test_threshold=0.65\n",
    "    config.pnp_threshold = 5\n",
    "    config.dist_threshold=200\n",
    "    config.post_threshold= 5\n",
    "    config.pre_threshold=12\n",
    "    config.indice_registered_cameras=[]\n",
    "    \n",
    "    return config,dict_cameras"
   ]
  },
  {
   "cell_type": "code",
   "execution_count": 7,
   "metadata": {},
   "outputs": [
    {
     "name": "stdout",
     "output_type": "stream",
     "text": [
      "Loaded in total 50 frames \n",
      "Feature detection takes 71 seconds\n",
      "Feature matching takes 4779 seconds\n",
      "`ftol` termination condition is satisfied.\n",
      "Function evaluations 26, initial cost 4.5354e+04, final cost 1.1805e+03, first-order optimality 3.43e+01.\n",
      "Use camera 46 and camera 47 to initialize, 29989 pairs used, 27461 pairs reconstructed \n",
      "---------------------------------------------------------------------------------------\n",
      "Registering 3th camera............\n",
      "Use 14702 out of 14863 points to register camera 45 by camera 46\n",
      "`ftol` termination condition is satisfied.\n",
      "Function evaluations 129, initial cost 6.4440e+04, final cost 3.3001e+03, first-order optimality 1.16e+03.\n",
      "115433 observations, 48358 3D points\n",
      "---------------------------------------------------------------------------------------\n",
      "Registering 4th camera............\n",
      "Use 18367 out of 19081 points to register camera 44 by camera 45\n",
      "`ftol` termination condition is satisfied.\n",
      "Function evaluations 63, initial cost 5.9265e+04, final cost 7.0126e+03, first-order optimality 1.36e+03.\n",
      "174533 observations, 64273 3D points\n",
      "---------------------------------------------------------------------------------------\n",
      "Registering 5th camera............\n",
      "Use 18469 out of 20240 points to register camera 48 by camera 47\n",
      "`ftol` termination condition is satisfied.\n",
      "Function evaluations 60, initial cost 7.6792e+04, final cost 1.1886e+04, first-order optimality 4.08e+03.\n",
      "232936 observations, 77848 3D points\n",
      "---------------------------------------------------------------------------------------\n",
      "Registering 6th camera............\n",
      "Use 19198 out of 20700 points to register camera 43 by camera 44\n",
      "`ftol` termination condition is satisfied.\n",
      "Function evaluations 77, initial cost 7.4386e+04, final cost 1.8212e+04, first-order optimality 2.27e+03.\n",
      "287982 observations, 89328 3D points\n",
      "---------------------------------------------------------------------------------------\n",
      "Registering 7th camera............\n",
      "Use 18968 out of 20665 points to register camera 42 by camera 43\n",
      "`ftol` termination condition is satisfied.\n",
      "Function evaluations 47, initial cost 9.3002e+04, final cost 2.5454e+04, first-order optimality 1.90e+03.\n",
      "344168 observations, 100776 3D points\n",
      "---------------------------------------------------------------------------------------\n",
      "Registering 8th camera............\n",
      "Use 19044 out of 19387 points to register camera 41 by camera 42\n",
      "`ftol` termination condition is satisfied.\n",
      "Function evaluations 59, initial cost 1.2399e+05, final cost 3.3993e+04, first-order optimality 5.50e+03.\n",
      "396133 observations, 111191 3D points\n",
      "---------------------------------------------------------------------------------------\n",
      "Registering 9th camera............\n",
      "Use 17992 out of 18234 points to register camera 40 by camera 41\n",
      "`ftol` termination condition is satisfied.\n",
      "Function evaluations 86, initial cost 1.1644e+05, final cost 4.0973e+04, first-order optimality 1.34e+03.\n",
      "448328 observations, 122540 3D points\n",
      "---------------------------------------------------------------------------------------\n",
      "Registering 10th camera............\n",
      "Use 18096 out of 18960 points to register camera 39 by camera 40\n",
      "`ftol` termination condition is satisfied.\n",
      "Function evaluations 58, initial cost 1.1255e+05, final cost 4.8092e+04, first-order optimality 8.99e+02.\n",
      "499689 observations, 132824 3D points\n",
      "---------------------------------------------------------------------------------------\n",
      "Registering 11th camera............\n",
      "Use 17688 out of 19116 points to register camera 38 by camera 39\n",
      "`ftol` termination condition is satisfied.\n",
      "Function evaluations 146, initial cost 1.0173e+05, final cost 5.5865e+04, first-order optimality 1.28e+03.\n",
      "548618 observations, 142501 3D points\n",
      "---------------------------------------------------------------------------------------\n",
      "Registering 12th camera............\n",
      "Use 17322 out of 17526 points to register camera 49 by camera 48\n",
      "`ftol` termination condition is satisfied.\n",
      "Function evaluations 62, initial cost 1.3034e+05, final cost 6.5107e+04, first-order optimality 2.64e+04.\n",
      "597949 observations, 152581 3D points\n",
      "---------------------------------------------------------------------------------------\n",
      "Registering 13th camera............\n",
      "Use 1615 out of 1689 points to register camera 37 by camera 38\n",
      "`ftol` termination condition is satisfied.\n",
      "Function evaluations 31, initial cost 6.8767e+04, final cost 6.4274e+04, first-order optimality 1.21e+03.\n",
      "601682 observations, 153197 3D points\n",
      "---------------------------------------------------------------------------------------\n",
      "Registering 14th camera............\n",
      "Use 1243 out of 1246 points to register camera 36 by camera 37\n",
      "`ftol` termination condition is satisfied.\n",
      "Function evaluations 32, initial cost 6.8008e+04, final cost 6.5685e+04, first-order optimality 4.55e+03.\n",
      "625356 observations, 164166 3D points\n",
      "---------------------------------------------------------------------------------------\n",
      "Registering 15th camera............\n",
      "Use 3629 out of 3661 points to register camera 35 by camera 36\n",
      "`ftol` termination condition is satisfied.\n",
      "Function evaluations 66, initial cost 7.6664e+04, final cost 6.7767e+04, first-order optimality 4.17e+03.\n",
      "645178 observations, 171980 3D points\n",
      "---------------------------------------------------------------------------------------\n",
      "Registering 16th camera............\n",
      "Use 3167 out of 3240 points to register camera 34 by camera 35\n",
      "`ftol` termination condition is satisfied.\n",
      "Function evaluations 69, initial cost 7.3649e+04, final cost 6.9625e+04, first-order optimality 4.78e+03.\n",
      "664543 observations, 179809 3D points\n",
      "---------------------------------------------------------------------------------------\n",
      "Registering 17th camera............\n",
      "Use 4571 out of 4613 points to register camera 33 by camera 34\n",
      "`ftol` termination condition is satisfied.\n",
      "Function evaluations 60, initial cost 7.5060e+04, final cost 7.0199e+04, first-order optimality 3.25e+03.\n",
      "689117 observations, 189329 3D points\n",
      "---------------------------------------------------------------------------------------\n",
      "Registering 18th camera............\n",
      "Use 5766 out of 5854 points to register camera 32 by camera 33\n",
      "`ftol` termination condition is satisfied.\n",
      "Function evaluations 45, initial cost 7.7078e+04, final cost 7.1366e+04, first-order optimality 4.11e+03.\n",
      "711550 observations, 196668 3D points\n",
      "---------------------------------------------------------------------------------------\n",
      "Registering 19th camera............\n",
      "Use 6074 out of 6138 points to register camera 31 by camera 32\n",
      "`ftol` termination condition is satisfied.\n",
      "Function evaluations 28, initial cost 7.9263e+04, final cost 7.2783e+04, first-order optimality 1.55e+04.\n",
      "732811 observations, 203025 3D points\n",
      "---------------------------------------------------------------------------------------\n",
      "Registering 20th camera............\n",
      "Use 6947 out of 7041 points to register camera 30 by camera 31\n",
      "`ftol` termination condition is satisfied.\n",
      "Function evaluations 36, initial cost 8.0896e+04, final cost 7.4796e+04, first-order optimality 4.05e+03.\n",
      "758268 observations, 210394 3D points\n",
      "---------------------------------------------------------------------------------------\n",
      "Registering 21th camera............\n",
      "Use 8806 out of 8867 points to register camera 29 by camera 30\n",
      "`ftol` termination condition is satisfied.\n",
      "Function evaluations 42, initial cost 8.4822e+04, final cost 7.6991e+04, first-order optimality 2.58e+03.\n",
      "789577 observations, 219098 3D points\n",
      "---------------------------------------------------------------------------------------\n",
      "Registering 22th camera............\n",
      "Use 9932 out of 10012 points to register camera 28 by camera 29\n",
      "`ftol` termination condition is satisfied.\n",
      "Function evaluations 50, initial cost 9.0466e+04, final cost 7.9281e+04, first-order optimality 5.80e+03.\n",
      "820580 observations, 226718 3D points\n",
      "---------------------------------------------------------------------------------------\n",
      "Registering 23th camera............\n",
      "Use 10726 out of 11076 points to register camera 27 by camera 28\n",
      "`ftol` termination condition is satisfied.\n",
      "Function evaluations 50, initial cost 1.0031e+05, final cost 8.1984e+04, first-order optimality 4.23e+04.\n",
      "855333 observations, 235154 3D points\n",
      "---------------------------------------------------------------------------------------\n",
      "Registering 24th camera............\n",
      "Use 9098 out of 9359 points to register camera 26 by camera 27\n",
      "`ftol` termination condition is satisfied.\n",
      "Function evaluations 54, initial cost 9.9261e+04, final cost 8.4724e+04, first-order optimality 1.73e+03.\n",
      "882350 observations, 241460 3D points\n",
      "---------------------------------------------------------------------------------------\n",
      "Registering 25th camera............\n",
      "Use 9267 out of 9304 points to register camera 25 by camera 26\n",
      "`ftol` termination condition is satisfied.\n",
      "Function evaluations 43, initial cost 9.6099e+04, final cost 8.6755e+04, first-order optimality 1.09e+03.\n",
      "914697 observations, 250400 3D points\n",
      "---------------------------------------------------------------------------------------\n",
      "Registering 26th camera............\n",
      "Use 10467 out of 10568 points to register camera 24 by camera 25\n",
      "`ftol` termination condition is satisfied.\n",
      "Function evaluations 56, initial cost 9.8275e+04, final cost 8.8978e+04, first-order optimality 5.79e+03.\n",
      "947194 observations, 258852 3D points\n",
      "---------------------------------------------------------------------------------------\n",
      "Registering 27th camera............\n",
      "Use 10335 out of 10404 points to register camera 23 by camera 24\n",
      "`ftol` termination condition is satisfied.\n",
      "Function evaluations 52, initial cost 1.0559e+05, final cost 9.3085e+04, first-order optimality 2.91e+03.\n",
      "978208 observations, 266941 3D points\n",
      "---------------------------------------------------------------------------------------\n",
      "Registering 28th camera............\n",
      "Use 8790 out of 8899 points to register camera 22 by camera 23\n",
      "`ftol` termination condition is satisfied.\n",
      "Function evaluations 52, initial cost 1.1432e+05, final cost 9.7588e+04, first-order optimality 7.75e+02.\n",
      "1007743 observations, 275791 3D points\n",
      "---------------------------------------------------------------------------------------\n",
      "Registering 29th camera............\n",
      "Use 1796 out of 1963 points to register camera 21 by camera 22\n",
      "`ftol` termination condition is satisfied.\n",
      "Function evaluations 40, initial cost 1.0093e+05, final cost 9.8321e+04, first-order optimality 1.78e+04.\n",
      "1013603 observations, 277614 3D points\n",
      "---------------------------------------------------------------------------------------\n",
      "Registering 30th camera............\n",
      "Use 1117 out of 1182 points to register camera 20 by camera 21\n",
      "`ftol` termination condition is satisfied.\n",
      "Function evaluations 62, initial cost 1.0440e+05, final cost 1.0028e+05, first-order optimality 3.56e+03.\n",
      "1045029 observations, 292696 3D points\n",
      "---------------------------------------------------------------------------------------\n",
      "Registering 31th camera............\n",
      "Use 4270 out of 4382 points to register camera 19 by camera 20\n",
      "`ftol` termination condition is satisfied.\n",
      "Function evaluations 53, initial cost 1.0795e+05, final cost 1.0078e+05, first-order optimality 1.52e+03.\n",
      "1062920 observations, 299206 3D points\n",
      "---------------------------------------------------------------------------------------\n",
      "Registering 32th camera............\n",
      "Use 4777 out of 5040 points to register camera 18 by camera 19\n",
      "`ftol` termination condition is satisfied.\n",
      "Function evaluations 60, initial cost 1.1483e+05, final cost 1.0385e+05, first-order optimality 4.21e+03.\n",
      "1087122 observations, 308349 3D points\n",
      "---------------------------------------------------------------------------------------\n",
      "Registering 33th camera............\n",
      "Use 6861 out of 7236 points to register camera 17 by camera 18\n",
      "`ftol` termination condition is satisfied.\n",
      "Function evaluations 52, initial cost 1.5370e+05, final cost 1.0683e+05, first-order optimality 3.01e+04.\n",
      "1118396 observations, 319409 3D points\n",
      "---------------------------------------------------------------------------------------\n",
      "Registering 34th camera............\n",
      "Use 7893 out of 9258 points to register camera 16 by camera 17\n",
      "`ftol` termination condition is satisfied.\n",
      "Function evaluations 112, initial cost 1.7721e+05, final cost 1.1047e+05, first-order optimality 1.59e+04.\n",
      "1156079 observations, 332057 3D points\n",
      "---------------------------------------------------------------------------------------\n",
      "Registering 35th camera............\n",
      "Use 9889 out of 10955 points to register camera 15 by camera 16\n",
      "`ftol` termination condition is satisfied.\n",
      "Function evaluations 86, initial cost 1.6985e+05, final cost 1.1423e+05, first-order optimality 4.14e+04.\n",
      "1192163 observations, 342347 3D points\n",
      "---------------------------------------------------------------------------------------\n",
      "Registering 36th camera............\n",
      "Use 11875 out of 12567 points to register camera 14 by camera 15\n",
      "`ftol` termination condition is satisfied.\n",
      "Function evaluations 70, initial cost 1.8800e+05, final cost 1.1897e+05, first-order optimality 5.39e+03.\n",
      "1228527 observations, 351015 3D points\n",
      "---------------------------------------------------------------------------------------\n",
      "Registering 37th camera............\n",
      "Use 8103 out of 9381 points to register camera 13 by camera 14\n",
      "`ftol` termination condition is satisfied.\n",
      "Function evaluations 55, initial cost 1.8238e+05, final cost 1.2354e+05, first-order optimality 8.07e+04.\n",
      "1255682 observations, 357209 3D points\n",
      "---------------------------------------------------------------------------------------\n",
      "Registering 38th camera............\n",
      "Use 4315 out of 4732 points to register camera 12 by camera 13\n",
      "`ftol` termination condition is satisfied.\n",
      "Function evaluations 55, initial cost 1.6732e+05, final cost 1.2469e+05, first-order optimality 1.36e+04.\n",
      "1269906 observations, 360740 3D points\n",
      "---------------------------------------------------------------------------------------\n",
      "Registering 39th camera............\n",
      "Use 4783 out of 5159 points to register camera 11 by camera 13\n",
      "`ftol` termination condition is satisfied.\n",
      "Function evaluations 44, initial cost 1.8437e+05, final cost 1.2762e+05, first-order optimality 9.85e+03.\n",
      "1285119 observations, 364085 3D points\n",
      "---------------------------------------------------------------------------------------\n",
      "Registering 40th camera............\n",
      "Use 3981 out of 4407 points to register camera 9 by camera 13\n"
     ]
    },
    {
     "ename": "MemoryError",
     "evalue": "Unable to allocate array with shape (23468472,) and data type float64",
     "output_type": "error",
     "traceback": [
      "\u001b[0;31m---------------------------------------------------------------------------\u001b[0m",
      "\u001b[0;31mMemoryError\u001b[0m                               Traceback (most recent call last)",
      "\u001b[0;32m<ipython-input-7-31c19a40fea9>\u001b[0m in \u001b[0;36m<module>\u001b[0;34m\u001b[0m\n\u001b[1;32m     46\u001b[0m     \u001b[0mprint\u001b[0m\u001b[0;34m(\u001b[0m\u001b[0;34m'---------------------------------------------------------------------------------------'\u001b[0m\u001b[0;34m)\u001b[0m\u001b[0;34m\u001b[0m\u001b[0;34m\u001b[0m\u001b[0m\n\u001b[1;32m     47\u001b[0m     \u001b[0mprint\u001b[0m\u001b[0;34m(\u001b[0m\u001b[0;34m'Registering %dth camera............'\u001b[0m \u001b[0;34m%\u001b[0m \u001b[0;34m(\u001b[0m\u001b[0mi\u001b[0m\u001b[0;34m+\u001b[0m\u001b[0;36m3\u001b[0m\u001b[0;34m)\u001b[0m\u001b[0;34m)\u001b[0m\u001b[0;34m\u001b[0m\u001b[0;34m\u001b[0m\u001b[0m\n\u001b[0;32m---> 48\u001b[0;31m     \u001b[0mconfig\u001b[0m\u001b[0;34m,\u001b[0m\u001b[0mdict_cameras\u001b[0m\u001b[0;34m,\u001b[0m\u001b[0mn_observations\u001b[0m\u001b[0;34m,\u001b[0m\u001b[0mn_points_3d\u001b[0m\u001b[0;34m=\u001b[0m\u001b[0mregister\u001b[0m\u001b[0;34m(\u001b[0m\u001b[0mconfig\u001b[0m\u001b[0;34m,\u001b[0m\u001b[0mdict_cameras\u001b[0m\u001b[0;34m)\u001b[0m\u001b[0;34m\u001b[0m\u001b[0;34m\u001b[0m\u001b[0m\n\u001b[0m\u001b[1;32m     49\u001b[0m     \u001b[0mprint\u001b[0m\u001b[0;34m(\u001b[0m\u001b[0;34m'%d observations, %d 3D points'\u001b[0m \u001b[0;34m%\u001b[0m\u001b[0;34m(\u001b[0m\u001b[0mn_observations\u001b[0m\u001b[0;34m,\u001b[0m\u001b[0mn_points_3d\u001b[0m\u001b[0;34m)\u001b[0m\u001b[0;34m)\u001b[0m\u001b[0;34m\u001b[0m\u001b[0;34m\u001b[0m\u001b[0m\n\u001b[1;32m     50\u001b[0m \u001b[0;34m\u001b[0m\u001b[0m\n",
      "\u001b[0;32m/scratch/shengyu/structurefrommotion/python-code/register_camera.py\u001b[0m in \u001b[0;36mregister\u001b[0;34m(config, dict_cameras)\u001b[0m\n\u001b[1;32m    269\u001b[0m     \u001b[0mA\u001b[0m \u001b[0;34m=\u001b[0m \u001b[0mbundle_adjustment_sparsity\u001b[0m\u001b[0;34m(\u001b[0m\u001b[0mn_cameras\u001b[0m\u001b[0;34m,\u001b[0m \u001b[0mn_points\u001b[0m\u001b[0;34m,\u001b[0m \u001b[0mcamera_indices\u001b[0m\u001b[0;34m,\u001b[0m \u001b[0mpoint_indices\u001b[0m\u001b[0;34m)\u001b[0m\u001b[0;34m\u001b[0m\u001b[0;34m\u001b[0m\u001b[0m\n\u001b[1;32m    270\u001b[0m     res = least_squares(fun, x0,jac='3-point',jac_sparsity=A, verbose=1, x_scale='jac', ftol=1e-5, method='trf',loss='soft_l1',\n\u001b[0;32m--> 271\u001b[0;31m                         args=(n_cameras, n_points, camera_indices, point_indices, points_2d,config.K))\n\u001b[0m\u001b[1;32m    272\u001b[0m \u001b[0;34m\u001b[0m\u001b[0m\n\u001b[1;32m    273\u001b[0m     \u001b[0;31m###################################################################################\u001b[0m\u001b[0;34m\u001b[0m\u001b[0;34m\u001b[0m\u001b[0;34m\u001b[0m\u001b[0m\n",
      "\u001b[0;32m/scratch/shengyu/sfm/lib/python3.7/site-packages/scipy/optimize/_lsq/least_squares.py\u001b[0m in \u001b[0;36mleast_squares\u001b[0;34m(fun, x0, jac, bounds, method, ftol, xtol, gtol, x_scale, loss, f_scale, diff_step, tr_solver, tr_options, jac_sparsity, max_nfev, verbose, args, kwargs)\u001b[0m\n\u001b[1;32m    914\u001b[0m         result = trf(fun_wrapped, jac_wrapped, x0, f0, J0, lb, ub, ftol, xtol,\n\u001b[1;32m    915\u001b[0m                      \u001b[0mgtol\u001b[0m\u001b[0;34m,\u001b[0m \u001b[0mmax_nfev\u001b[0m\u001b[0;34m,\u001b[0m \u001b[0mx_scale\u001b[0m\u001b[0;34m,\u001b[0m \u001b[0mloss_function\u001b[0m\u001b[0;34m,\u001b[0m \u001b[0mtr_solver\u001b[0m\u001b[0;34m,\u001b[0m\u001b[0;34m\u001b[0m\u001b[0;34m\u001b[0m\u001b[0m\n\u001b[0;32m--> 916\u001b[0;31m                      tr_options.copy(), verbose)\n\u001b[0m\u001b[1;32m    917\u001b[0m \u001b[0;34m\u001b[0m\u001b[0m\n\u001b[1;32m    918\u001b[0m     \u001b[0;32melif\u001b[0m \u001b[0mmethod\u001b[0m \u001b[0;34m==\u001b[0m \u001b[0;34m'dogbox'\u001b[0m\u001b[0;34m:\u001b[0m\u001b[0;34m\u001b[0m\u001b[0;34m\u001b[0m\u001b[0m\n",
      "\u001b[0;32m/scratch/shengyu/sfm/lib/python3.7/site-packages/scipy/optimize/_lsq/trf.py\u001b[0m in \u001b[0;36mtrf\u001b[0;34m(fun, jac, x0, f0, J0, lb, ub, ftol, xtol, gtol, max_nfev, x_scale, loss_function, tr_solver, tr_options, verbose)\u001b[0m\n\u001b[1;32m    122\u001b[0m         return trf_no_bounds(\n\u001b[1;32m    123\u001b[0m             \u001b[0mfun\u001b[0m\u001b[0;34m,\u001b[0m \u001b[0mjac\u001b[0m\u001b[0;34m,\u001b[0m \u001b[0mx0\u001b[0m\u001b[0;34m,\u001b[0m \u001b[0mf0\u001b[0m\u001b[0;34m,\u001b[0m \u001b[0mJ0\u001b[0m\u001b[0;34m,\u001b[0m \u001b[0mftol\u001b[0m\u001b[0;34m,\u001b[0m \u001b[0mxtol\u001b[0m\u001b[0;34m,\u001b[0m \u001b[0mgtol\u001b[0m\u001b[0;34m,\u001b[0m \u001b[0mmax_nfev\u001b[0m\u001b[0;34m,\u001b[0m \u001b[0mx_scale\u001b[0m\u001b[0;34m,\u001b[0m\u001b[0;34m\u001b[0m\u001b[0;34m\u001b[0m\u001b[0m\n\u001b[0;32m--> 124\u001b[0;31m             loss_function, tr_solver, tr_options, verbose)\n\u001b[0m\u001b[1;32m    125\u001b[0m     \u001b[0;32melse\u001b[0m\u001b[0;34m:\u001b[0m\u001b[0;34m\u001b[0m\u001b[0;34m\u001b[0m\u001b[0m\n\u001b[1;32m    126\u001b[0m         return trf_bounds(\n",
      "\u001b[0;32m/scratch/shengyu/sfm/lib/python3.7/site-packages/scipy/optimize/_lsq/trf.py\u001b[0m in \u001b[0;36mtrf_no_bounds\u001b[0;34m(fun, jac, x0, f0, J0, ftol, xtol, gtol, max_nfev, x_scale, loss_function, tr_solver, tr_options, verbose)\u001b[0m\n\u001b[1;32m    541\u001b[0m             \u001b[0mcost\u001b[0m \u001b[0;34m=\u001b[0m \u001b[0mcost_new\u001b[0m\u001b[0;34m\u001b[0m\u001b[0;34m\u001b[0m\u001b[0m\n\u001b[1;32m    542\u001b[0m \u001b[0;34m\u001b[0m\u001b[0m\n\u001b[0;32m--> 543\u001b[0;31m             \u001b[0mJ\u001b[0m \u001b[0;34m=\u001b[0m \u001b[0mjac\u001b[0m\u001b[0;34m(\u001b[0m\u001b[0mx\u001b[0m\u001b[0;34m,\u001b[0m \u001b[0mf\u001b[0m\u001b[0;34m)\u001b[0m\u001b[0;34m\u001b[0m\u001b[0;34m\u001b[0m\u001b[0m\n\u001b[0m\u001b[1;32m    544\u001b[0m             \u001b[0mnjev\u001b[0m \u001b[0;34m+=\u001b[0m \u001b[0;36m1\u001b[0m\u001b[0;34m\u001b[0m\u001b[0;34m\u001b[0m\u001b[0m\n\u001b[1;32m    545\u001b[0m \u001b[0;34m\u001b[0m\u001b[0m\n",
      "\u001b[0;32m/scratch/shengyu/sfm/lib/python3.7/site-packages/scipy/optimize/_lsq/least_squares.py\u001b[0m in \u001b[0;36mjac_wrapped\u001b[0;34m(x, f)\u001b[0m\n\u001b[1;32m    872\u001b[0m                 J = approx_derivative(fun, x, rel_step=diff_step, method=jac,\n\u001b[1;32m    873\u001b[0m                                       \u001b[0mf0\u001b[0m\u001b[0;34m=\u001b[0m\u001b[0mf\u001b[0m\u001b[0;34m,\u001b[0m \u001b[0mbounds\u001b[0m\u001b[0;34m=\u001b[0m\u001b[0mbounds\u001b[0m\u001b[0;34m,\u001b[0m \u001b[0margs\u001b[0m\u001b[0;34m=\u001b[0m\u001b[0margs\u001b[0m\u001b[0;34m,\u001b[0m\u001b[0;34m\u001b[0m\u001b[0;34m\u001b[0m\u001b[0m\n\u001b[0;32m--> 874\u001b[0;31m                                       kwargs=kwargs, sparsity=jac_sparsity)\n\u001b[0m\u001b[1;32m    875\u001b[0m                 \u001b[0;32mif\u001b[0m \u001b[0mJ\u001b[0m\u001b[0;34m.\u001b[0m\u001b[0mndim\u001b[0m \u001b[0;34m!=\u001b[0m \u001b[0;36m2\u001b[0m\u001b[0;34m:\u001b[0m  \u001b[0;31m# J is guaranteed not sparse.\u001b[0m\u001b[0;34m\u001b[0m\u001b[0;34m\u001b[0m\u001b[0m\n\u001b[1;32m    876\u001b[0m                     \u001b[0mJ\u001b[0m \u001b[0;34m=\u001b[0m \u001b[0mnp\u001b[0m\u001b[0;34m.\u001b[0m\u001b[0matleast_2d\u001b[0m\u001b[0;34m(\u001b[0m\u001b[0mJ\u001b[0m\u001b[0;34m)\u001b[0m\u001b[0;34m\u001b[0m\u001b[0;34m\u001b[0m\u001b[0m\n",
      "\u001b[0;32m/scratch/shengyu/sfm/lib/python3.7/site-packages/scipy/optimize/_numdiff.py\u001b[0m in \u001b[0;36mapprox_derivative\u001b[0;34m(fun, x0, method, rel_step, f0, bounds, sparsity, as_linear_operator, args, kwargs)\u001b[0m\n\u001b[1;32m    398\u001b[0m             return _sparse_difference(fun_wrapped, x0, f0, h,\n\u001b[1;32m    399\u001b[0m                                       \u001b[0muse_one_sided\u001b[0m\u001b[0;34m,\u001b[0m \u001b[0mstructure\u001b[0m\u001b[0;34m,\u001b[0m\u001b[0;34m\u001b[0m\u001b[0;34m\u001b[0m\u001b[0m\n\u001b[0;32m--> 400\u001b[0;31m                                       groups, method)\n\u001b[0m\u001b[1;32m    401\u001b[0m \u001b[0;34m\u001b[0m\u001b[0m\n\u001b[1;32m    402\u001b[0m \u001b[0;34m\u001b[0m\u001b[0m\n",
      "\u001b[0;32m/scratch/shengyu/sfm/lib/python3.7/site-packages/scipy/optimize/_numdiff.py\u001b[0m in \u001b[0;36m_sparse_difference\u001b[0;34m(fun, x0, f0, h, use_one_sided, structure, groups, method)\u001b[0m\n\u001b[1;32m    559\u001b[0m     \u001b[0mfractions\u001b[0m \u001b[0;34m=\u001b[0m \u001b[0mnp\u001b[0m\u001b[0;34m.\u001b[0m\u001b[0mhstack\u001b[0m\u001b[0;34m(\u001b[0m\u001b[0mfractions\u001b[0m\u001b[0;34m)\u001b[0m\u001b[0;34m\u001b[0m\u001b[0;34m\u001b[0m\u001b[0m\n\u001b[1;32m    560\u001b[0m     \u001b[0mJ\u001b[0m \u001b[0;34m=\u001b[0m \u001b[0mcoo_matrix\u001b[0m\u001b[0;34m(\u001b[0m\u001b[0;34m(\u001b[0m\u001b[0mfractions\u001b[0m\u001b[0;34m,\u001b[0m \u001b[0;34m(\u001b[0m\u001b[0mrow_indices\u001b[0m\u001b[0;34m,\u001b[0m \u001b[0mcol_indices\u001b[0m\u001b[0;34m)\u001b[0m\u001b[0;34m)\u001b[0m\u001b[0;34m,\u001b[0m \u001b[0mshape\u001b[0m\u001b[0;34m=\u001b[0m\u001b[0;34m(\u001b[0m\u001b[0mm\u001b[0m\u001b[0;34m,\u001b[0m \u001b[0mn\u001b[0m\u001b[0;34m)\u001b[0m\u001b[0;34m)\u001b[0m\u001b[0;34m\u001b[0m\u001b[0;34m\u001b[0m\u001b[0m\n\u001b[0;32m--> 561\u001b[0;31m     \u001b[0;32mreturn\u001b[0m \u001b[0mcsr_matrix\u001b[0m\u001b[0;34m(\u001b[0m\u001b[0mJ\u001b[0m\u001b[0;34m)\u001b[0m\u001b[0;34m\u001b[0m\u001b[0;34m\u001b[0m\u001b[0m\n\u001b[0m\u001b[1;32m    562\u001b[0m \u001b[0;34m\u001b[0m\u001b[0m\n\u001b[1;32m    563\u001b[0m \u001b[0;34m\u001b[0m\u001b[0m\n",
      "\u001b[0;32m/scratch/shengyu/sfm/lib/python3.7/site-packages/scipy/sparse/compressed.py\u001b[0m in \u001b[0;36m__init__\u001b[0;34m(self, arg1, shape, dtype, copy)\u001b[0m\n\u001b[1;32m     35\u001b[0m                 \u001b[0marg1\u001b[0m \u001b[0;34m=\u001b[0m \u001b[0marg1\u001b[0m\u001b[0;34m.\u001b[0m\u001b[0mcopy\u001b[0m\u001b[0;34m(\u001b[0m\u001b[0;34m)\u001b[0m\u001b[0;34m\u001b[0m\u001b[0;34m\u001b[0m\u001b[0m\n\u001b[1;32m     36\u001b[0m             \u001b[0;32melse\u001b[0m\u001b[0;34m:\u001b[0m\u001b[0;34m\u001b[0m\u001b[0;34m\u001b[0m\u001b[0m\n\u001b[0;32m---> 37\u001b[0;31m                 \u001b[0marg1\u001b[0m \u001b[0;34m=\u001b[0m \u001b[0marg1\u001b[0m\u001b[0;34m.\u001b[0m\u001b[0masformat\u001b[0m\u001b[0;34m(\u001b[0m\u001b[0mself\u001b[0m\u001b[0;34m.\u001b[0m\u001b[0mformat\u001b[0m\u001b[0;34m)\u001b[0m\u001b[0;34m\u001b[0m\u001b[0;34m\u001b[0m\u001b[0m\n\u001b[0m\u001b[1;32m     38\u001b[0m             \u001b[0mself\u001b[0m\u001b[0;34m.\u001b[0m\u001b[0m_set_self\u001b[0m\u001b[0;34m(\u001b[0m\u001b[0marg1\u001b[0m\u001b[0;34m)\u001b[0m\u001b[0;34m\u001b[0m\u001b[0;34m\u001b[0m\u001b[0m\n\u001b[1;32m     39\u001b[0m \u001b[0;34m\u001b[0m\u001b[0m\n",
      "\u001b[0;32m/scratch/shengyu/sfm/lib/python3.7/site-packages/scipy/sparse/base.py\u001b[0m in \u001b[0;36masformat\u001b[0;34m(self, format, copy)\u001b[0m\n\u001b[1;32m    324\u001b[0m             \u001b[0;31m# Forward the copy kwarg, if it's accepted.\u001b[0m\u001b[0;34m\u001b[0m\u001b[0;34m\u001b[0m\u001b[0;34m\u001b[0m\u001b[0m\n\u001b[1;32m    325\u001b[0m             \u001b[0;32mtry\u001b[0m\u001b[0;34m:\u001b[0m\u001b[0;34m\u001b[0m\u001b[0;34m\u001b[0m\u001b[0m\n\u001b[0;32m--> 326\u001b[0;31m                 \u001b[0;32mreturn\u001b[0m \u001b[0mconvert_method\u001b[0m\u001b[0;34m(\u001b[0m\u001b[0mcopy\u001b[0m\u001b[0;34m=\u001b[0m\u001b[0mcopy\u001b[0m\u001b[0;34m)\u001b[0m\u001b[0;34m\u001b[0m\u001b[0;34m\u001b[0m\u001b[0m\n\u001b[0m\u001b[1;32m    327\u001b[0m             \u001b[0;32mexcept\u001b[0m \u001b[0mTypeError\u001b[0m\u001b[0;34m:\u001b[0m\u001b[0;34m\u001b[0m\u001b[0;34m\u001b[0m\u001b[0m\n\u001b[1;32m    328\u001b[0m                 \u001b[0;32mreturn\u001b[0m \u001b[0mconvert_method\u001b[0m\u001b[0;34m(\u001b[0m\u001b[0;34m)\u001b[0m\u001b[0;34m\u001b[0m\u001b[0;34m\u001b[0m\u001b[0m\n",
      "\u001b[0;32m/scratch/shengyu/sfm/lib/python3.7/site-packages/scipy/sparse/coo.py\u001b[0m in \u001b[0;36mtocsr\u001b[0;34m(self, copy)\u001b[0m\n\u001b[1;32m    404\u001b[0m             \u001b[0mindptr\u001b[0m \u001b[0;34m=\u001b[0m \u001b[0mnp\u001b[0m\u001b[0;34m.\u001b[0m\u001b[0mempty\u001b[0m\u001b[0;34m(\u001b[0m\u001b[0mM\u001b[0m \u001b[0;34m+\u001b[0m \u001b[0;36m1\u001b[0m\u001b[0;34m,\u001b[0m \u001b[0mdtype\u001b[0m\u001b[0;34m=\u001b[0m\u001b[0midx_dtype\u001b[0m\u001b[0;34m)\u001b[0m\u001b[0;34m\u001b[0m\u001b[0;34m\u001b[0m\u001b[0m\n\u001b[1;32m    405\u001b[0m             \u001b[0mindices\u001b[0m \u001b[0;34m=\u001b[0m \u001b[0mnp\u001b[0m\u001b[0;34m.\u001b[0m\u001b[0mempty_like\u001b[0m\u001b[0;34m(\u001b[0m\u001b[0mcol\u001b[0m\u001b[0;34m,\u001b[0m \u001b[0mdtype\u001b[0m\u001b[0;34m=\u001b[0m\u001b[0midx_dtype\u001b[0m\u001b[0;34m)\u001b[0m\u001b[0;34m\u001b[0m\u001b[0;34m\u001b[0m\u001b[0m\n\u001b[0;32m--> 406\u001b[0;31m             \u001b[0mdata\u001b[0m \u001b[0;34m=\u001b[0m \u001b[0mnp\u001b[0m\u001b[0;34m.\u001b[0m\u001b[0mempty_like\u001b[0m\u001b[0;34m(\u001b[0m\u001b[0mself\u001b[0m\u001b[0;34m.\u001b[0m\u001b[0mdata\u001b[0m\u001b[0;34m,\u001b[0m \u001b[0mdtype\u001b[0m\u001b[0;34m=\u001b[0m\u001b[0mupcast\u001b[0m\u001b[0;34m(\u001b[0m\u001b[0mself\u001b[0m\u001b[0;34m.\u001b[0m\u001b[0mdtype\u001b[0m\u001b[0;34m)\u001b[0m\u001b[0;34m)\u001b[0m\u001b[0;34m\u001b[0m\u001b[0;34m\u001b[0m\u001b[0m\n\u001b[0m\u001b[1;32m    407\u001b[0m \u001b[0;34m\u001b[0m\u001b[0m\n\u001b[1;32m    408\u001b[0m             coo_tocsr(M, N, self.nnz, row, col, self.data,\n",
      "\u001b[0;32m<__array_function__ internals>\u001b[0m in \u001b[0;36mempty_like\u001b[0;34m(*args, **kwargs)\u001b[0m\n",
      "\u001b[0;31mMemoryError\u001b[0m: Unable to allocate array with shape (23468472,) and data type float64"
     ]
    },
    {
     "data": {
      "image/png": "[encoded data removed]",
      "text/plain": [
       "<Figure size 432x288 with 2 Axes>"
      ]
     },
     "metadata": {
      "needs_background": "light"
     },
     "output_type": "display_data"
    },
    {
     "data": {
      "image/png": "[encoded data removed]",
      "text/plain": [
       "<Figure size 576x288 with 2 Axes>"
      ]
     },
     "metadata": {
      "needs_background": "light"
     },
     "output_type": "display_data"
    },
    {
     "data": {
      "image/png": "[encoded data removed]",
      "text/plain": [
       "<Figure size 432x288 with 1 Axes>"
      ]
     },
     "metadata": {
      "needs_background": "light"
     },
     "output_type": "display_data"
    }
   ],
   "source": [
    "SAVE_NAME='south_building'\n",
    "if(not os.path.exists('results/%s' % SAVE_NAME)):\n",
    "    os.makedirs('results/%s' % SAVE_NAME)\n",
    "########################################################\n",
    "# init configurations \n",
    "########################################################\n",
    "config,dict_cameras=init()\n",
    "\n",
    "\n",
    "\n",
    "########################################################\n",
    "# load images\n",
    "########################################################\n",
    "dict_cameras=load_images(config,dict_cameras)\n",
    "\n",
    "\n",
    "\n",
    "########################################################\n",
    "# extract features\n",
    "########################################################\n",
    "dict_cameras=extract_features(config,dict_cameras)\n",
    "\n",
    "\n",
    "\n",
    "########################################################\n",
    "# match features\n",
    "########################################################\n",
    "dict_cameras=match_features(config,dict_cameras)\n",
    "ax = sns.heatmap(config.n_good_matches)\n",
    "\n",
    "\n",
    "\n",
    "########################################################\n",
    "# initialize the first two images\n",
    "########################################################\n",
    "config,dict_cameras=initialize(config,dict_cameras)\n",
    "np.savetxt('results/%s/2.txt' % SAVE_NAME,config.reconstructed_points_3d,delimiter=';')\n",
    "\n",
    "\n",
    "\n",
    "########################################################\n",
    "# register more cameras\n",
    "########################################################\n",
    "n_cameras=config.n_cameras\n",
    "for i in range(n_cameras-2):\n",
    "    print('---------------------------------------------------------------------------------------')\n",
    "    print('Registering %dth camera............' % (i+3))\n",
    "    config,dict_cameras,n_observations,n_points_3d=register(config,dict_cameras)\n",
    "    print('%d observations, %d 3D points' %(n_observations,n_points_3d))\n",
    "\n",
    "    mask=[]\n",
    "    for crn_camera_index in config.indice_registered_cameras:\n",
    "        mask.extend(dict_cameras[crn_camera_index]['point_indice'].tolist())\n",
    "    mask=list(set(mask))\n",
    "    reconstructed_points_3d=config.reconstructed_points_3d[mask]\n",
    "    np.savetxt('results/%s/%d.txt' % (SAVE_NAME,i+3),reconstructed_points_3d,delimiter=';')"
   ]
  },
  {
   "cell_type": "code",
   "execution_count": 8,
   "metadata": {},
   "outputs": [
    {
     "data": {
      "text/plain": [
       "(372879, 3)"
      ]
     },
     "execution_count": 8,
     "metadata": {},
     "output_type": "execute_result"
    }
   ],
   "source": [
    "config.reconstructed_points_3d.shape"
   ]
  },
  {
   "cell_type": "code",
   "execution_count": 14,
   "metadata": {},
   "outputs": [
    {
     "data": {
      "text/plain": [
       "40"
      ]
     },
     "execution_count": 14,
     "metadata": {},
     "output_type": "execute_result"
    }
   ],
   "source": [
    "len(config.indice_registered_cameras)"
   ]
  },
  {
   "cell_type": "code",
   "execution_count": 16,
   "metadata": {},
   "outputs": [],
   "source": [
    "from bundle_adjustment import fun\n",
    "n_cameras=len(config.indice_registered_cameras)\n",
    "n_points=config.reconstructed_points_3d.shape[0]\n",
    "\n",
    "# points_3d, n_points x 3\n",
    "points_3d=config.reconstructed_points_3d\n",
    "\n",
    "# get camera params,points_2d, camera_indice\n",
    "camera_params=np.zeros((n_cameras,6))\n",
    "camera_indices=[]\n",
    "point_indices=[]\n",
    "points_2d=[]\n",
    "for j in range(n_cameras):\n",
    "    crn_camera_index=config.indice_registered_cameras[j]\n",
    "\n",
    "    camera_params[j,:]=dict_cameras[crn_camera_index]['camera']\n",
    "    camera_indices.extend([j]*dict_cameras[crn_camera_index]['indice_registered_2d'].shape[0])\n",
    "    point_indices.extend(dict_cameras[crn_camera_index]['point_indice'].tolist())\n",
    "\n",
    "    for ele in dict_cameras[crn_camera_index]['indice_registered_2d']:\n",
    "        points_2d.append(dict_cameras[crn_camera_index]['kp'][ele].pt)\n",
    "\n",
    "points_2d=np.float64(points_2d)\n",
    "camera_indices=np.array(camera_indices)  \n",
    "point_indices=np.array(point_indices)  \n",
    "\n",
    "# calibrate the 2d image pts to calculate residual\n",
    "if(points_2d.shape[1]==2):\n",
    "    points_2d=np.hstack((points_2d,np.ones((points_2d.shape[0],1))))\n",
    "points_2d=np.dot(np.linalg.inv(config.K),points_2d.T).T\n",
    "points_2d=points_2d[:,:2]\n",
    "\n",
    "# optimize\n",
    "x0 = np.hstack((camera_params.ravel(), points_3d.ravel()))\n",
    "f0=fun(x0,n_cameras, n_points, camera_indices, point_indices, points_2d,config.K)"
   ]
  },
  {
   "cell_type": "code",
   "execution_count": 18,
   "metadata": {},
   "outputs": [
    {
     "data": {
      "text/plain": [
       "0.009773443144961327"
      ]
     },
     "execution_count": 18,
     "metadata": {},
     "output_type": "execute_result"
    }
   ],
   "source": [
    "f0.mean()"
   ]
  },
  {
   "cell_type": "code",
   "execution_count": null,
   "metadata": {},
   "outputs": [],
   "source": []
  }
 ],
 "metadata": {
  "kernelspec": {
   "display_name": "Python 3",
   "language": "python",
   "name": "python3"
  },
  "language_info": {
   "codemirror_mode": {
    "name": "ipython",
    "version": 3
   },
   "file_extension": ".py",
   "mimetype": "text/x-python",
   "name": "python",
   "nbconvert_exporter": "python",
   "pygments_lexer": "ipython3",
   "version": "3.7.5"
  }
 },
 "nbformat": 4,
 "nbformat_minor": 4
}
